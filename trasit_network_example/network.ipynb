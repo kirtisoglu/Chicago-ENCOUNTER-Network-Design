{
 "cells": [
  {
   "cell_type": "code",
   "execution_count": 72,
   "metadata": {},
   "outputs": [],
   "source": [
    "import classes as cl\n",
    "import numpy as np\n",
    "import matplotlib.pyplot as plt\n",
    "import random "
   ]
  },
  {
   "cell_type": "code",
   "execution_count": 73,
   "metadata": {},
   "outputs": [
    {
     "name": "stdout",
     "output_type": "stream",
     "text": [
      "(1, 2)\n"
     ]
    }
   ],
   "source": [
    "n2 = cl.Node(1,2,10,[1,2,3,4],[])\n",
    "\n",
    "print(n2.get_position())"
   ]
  },
  {
   "cell_type": "code",
   "execution_count": 74,
   "metadata": {},
   "outputs": [
    {
     "name": "stdout",
     "output_type": "stream",
     "text": [
      "Existing PHCs: {(7, 4), (5, 4), (4, 8), (3, 6), (8, 2)}\n",
      "Possible PHCs: {(3, 1), (5, 7), (9, 5), (5, 10), (10, 3), (2, 2), (2, 5), (6, 2), (7, 10), (6, 8), (4, 2), (4, 5), (3, 9), (9, 1), (9, 7), (8, 8), (2, 7), (7, 3), (7, 6), (4, 4), (4, 10), (5, 5), (8, 1), (10, 1), (10, 7), (1, 7), (6, 6), (7, 5), (6, 3), (6, 9)}\n"
     ]
    }
   ],
   "source": [
    "n = 10   # height of grid\n",
    "m = 10   # width of grid\n",
    "e = 5    # number of existing PHCs\n",
    "p = 30   # number of possible PHCs\n",
    "\n",
    "# Generate all possible pairs (i, j)\n",
    "pairs = {(i, j) for i in range(1, n + 1) for j in range(1, m + 1)}\n",
    "\n",
    "# Choose e random elements as existing PHCs\n",
    "random_EPHCs = random.sample(list(pairs), e)\n",
    "existing = set(random_EPHCs)\n",
    "\n",
    "# Calculate remaining possible PHCs\n",
    "remaining_elements = pairs - existing\n",
    "\n",
    "# Choose p random elements as possible PHCs\n",
    "random_PPHCs = random.sample(list(remaining_elements), p)\n",
    "possible = set(random_PPHCs)\n",
    "\n",
    "# Print the existing PHCs and possible PHCs\n",
    "print(\"Existing PHCs:\", existing)\n",
    "print(\"Possible PHCs:\", possible)\n"
   ]
  },
  {
   "cell_type": "code",
   "execution_count": 75,
   "metadata": {},
   "outputs": [
    {
     "ename": "TypeError",
     "evalue": "Node.__init__() takes 6 positional arguments but 9 were given",
     "output_type": "error",
     "traceback": [
      "\u001b[0;31m---------------------------------------------------------------------------\u001b[0m",
      "\u001b[0;31mTypeError\u001b[0m                                 Traceback (most recent call last)",
      "Cell \u001b[0;32mIn[75], line 41\u001b[0m\n\u001b[1;32m     38\u001b[0m     PPHC \u001b[38;5;241m=\u001b[39m \u001b[38;5;241m1\u001b[39m\n\u001b[1;32m     39\u001b[0m \u001b[38;5;28;01melse\u001b[39;00m: PPHC \u001b[38;5;241m=\u001b[39m \u001b[38;5;241m0\u001b[39m \n\u001b[0;32m---> 41\u001b[0m node \u001b[38;5;241m=\u001b[39m \u001b[43mcl\u001b[49m\u001b[38;5;241;43m.\u001b[39;49m\u001b[43mNode\u001b[49m\u001b[43m(\u001b[49m\u001b[38;5;28;43mid\u001b[39;49m\u001b[43m,\u001b[49m\u001b[43m \u001b[49m\u001b[43mrand_pos_x\u001b[49m\u001b[43m,\u001b[49m\u001b[43m \u001b[49m\u001b[43mrand_pos_y\u001b[49m\u001b[43m,\u001b[49m\u001b[43m \u001b[49m\u001b[43mPop\u001b[49m\u001b[43m,\u001b[49m\u001b[43m \u001b[49m\u001b[43m[\u001b[49m\u001b[43m]\u001b[49m\u001b[43m,\u001b[49m\u001b[43m \u001b[49m\u001b[43mneighbors\u001b[49m\u001b[43m,\u001b[49m\u001b[43m \u001b[49m\u001b[43mEPHC\u001b[49m\u001b[43m,\u001b[49m\u001b[43m \u001b[49m\u001b[43mPPHC\u001b[49m\u001b[43m)\u001b[49m \u001b[38;5;66;03m# Define position columns of nodes\u001b[39;00m\n\u001b[1;32m     43\u001b[0m grid[(i,j)] \u001b[38;5;241m=\u001b[39m node\n\u001b[1;32m     44\u001b[0m \u001b[38;5;28;01mif\u001b[39;00m EPHC \u001b[38;5;241m==\u001b[39m \u001b[38;5;241m1\u001b[39m:\n",
      "\u001b[0;31mTypeError\u001b[0m: Node.__init__() takes 6 positional arguments but 9 were given"
     ]
    }
   ],
   "source": [
    "grid = {}  # initialize a dictionary for grid\n",
    "V_blocks = {}  # set of vertices correspoding to blocks \n",
    "V_EPHC = {}  # set of vertices corresponding to existing PHCs\n",
    "V_PPHC = {}  # set of vertices corresponding to possible PHCs\n",
    "\n",
    "\"Should we convert the dictionaries to sets?\"\n",
    "\n",
    "# Columns of a node are ID, posX, posY, population (int, 10-50), travel_time, neighbors (set), EPHC (int, 0-1), PPHC\n",
    "\n",
    "for i in range(n):\n",
    "    for j in range(m):\n",
    "        noise_x = np.random.normal(0,0.1)\n",
    "        noise_y = np.random.normal(0,0.1)\n",
    "        rand_pos_x = i + noise_x\n",
    "        rand_pos_y = j + noise_y\n",
    "        id = (i,j)\n",
    "        Pop =  random.randrange(10,50)\n",
    "        # time = define travel_time column somehow. It will be a list of travel times to all PHCs.\n",
    "        \n",
    "        neighbors = set()\n",
    "        if i == 0 or i == n - 1 or j == 0 or j == m - 1:   # corners\n",
    "            if i != 0:\n",
    "                neighbors.add((i - 1,j))  # top neighbor\n",
    "            if j != m - 1:\n",
    "                neighbors.add((i,j + 1))  # right neighbor\n",
    "            if i != n - 1:\n",
    "                neighbors.add((i + 1,j))  # bottom neighbor\n",
    "            if j != 0:\n",
    "                neighbors.add((i,j - 1))  # left neighbor\n",
    "        else:\n",
    "            neighbors.add((i - 1,j), (i + 1,j), (i,j - 1), (i,j + 1))   # middle nodes\n",
    "    \n",
    "        if (i,j) in existing:\n",
    "            EPHC = 1\n",
    "        else: EPHC = 0 \n",
    "\n",
    "        if (i,j) in possible:\n",
    "            PPHC = 1\n",
    "        else: PPHC = 0 \n",
    "\n",
    "        node = cl.Node(id, rand_pos_x, rand_pos_y, Pop, [], neighbors, EPHC, PPHC) # Define position columns of nodes\n",
    "        \n",
    "        grid[(i,j)] = node\n",
    "        if EPHC == 1:\n",
    "            V_EPHC[(i,j)] = node  \n",
    "        if PPHC == 1:\n",
    "            V_PPHC = [(i,j)] = node\n",
    "        \n",
    "\n",
    "print(grid[(3,4)].get_position())     \n",
    "print(V_PPHC)\n"
   ]
  },
  {
   "cell_type": "code",
   "execution_count": null,
   "metadata": {},
   "outputs": [],
   "source": [
    "# Append coordinates of nodes to plot\n",
    "x = []\n",
    "y = []\n",
    "\n",
    "for i in range(10):\n",
    "    for j in range(10):\n",
    "        x_pos,y_pos = grid[(i,j)].get_position()\n",
    "        x.append(x_pos)\n",
    "        y.append(y_pos)"
   ]
  },
  {
   "cell_type": "code",
   "execution_count": null,
   "metadata": {},
   "outputs": [
    {
     "data": {
      "image/png": "[encoded data removed]",
      "text/plain": [
       "<Figure size 640x480 with 1 Axes>"
      ]
     },
     "metadata": {},
     "output_type": "display_data"
    }
   ],
   "source": [
    "plt.scatter(x,y)\n",
    "plt.show()"
   ]
  },
  {
   "cell_type": "code",
   "execution_count": 78,
   "metadata": {},
   "outputs": [],
   "source": [
    "# Columns of an edge: ID, type, line, tail, head, travel_time\n",
    "E_blocks = {}  # initialize a dictionary for edges between blocks\n",
    "\n",
    "for (i,j) in range(n,m):\n",
    "    for (s,r) in range (n,m):\n",
    "        ID = ((i,j),(s,r))\n",
    "        \"line = define this after adding a transportation network\"\n",
    "        \"type = define this after adding a transportation network\"\n",
    "        tail = (i,j)    #Should I take this as a dictionary and connect to the node?\n",
    "        head = (s,r)\n",
    "        # travel_time = Do I need that?\n",
    "        edge = cl.Edge(ID, [], [], tail, head, [])\n",
    "        E_blocks[(i,j),(r,s)] = edge"
   ]
  }
 ],
 "metadata": {
  "kernelspec": {
   "display_name": "Python 3.10.5 64-bit",
   "language": "python",
   "name": "python3"
  },
  "language_info": {
   "codemirror_mode": {
    "name": "ipython",
    "version": 3
   },
   "file_extension": ".py",
   "mimetype": "text/x-python",
   "name": "python",
   "nbconvert_exporter": "python",
   "pygments_lexer": "ipython3",
   "version": "3.10.5"
  },
  "orig_nbformat": 4,
  "vscode": {
   "interpreter": {
    "hash": "aee8b7b246df8f9039afb4144a1f6fd8d2ca17a180786b69acc140d282b71a49"
   }
  }
 },
 "nbformat": 4,
 "nbformat_minor": 2
}
