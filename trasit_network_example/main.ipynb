{
 "cells": [
  {
   "cell_type": "code",
   "execution_count": 1,
   "metadata": {},
   "outputs": [
    {
     "name": "stdout",
     "output_type": "stream",
     "text": [
      "[35, 46, 38, 49, 54, 36, 35, 35, 36, 18, 0, 25, 42, 31, 37, 37, 33, 45, 39, 22, 49, 0, 22, 20, 17, 27, 29, 30, 43, 41, 51, 52, 0, 24, 20, 25, 35, 30, 53, 20, 20, 44, 38, 0, 53, 48, 40, 21, 45, 53, 30, 15, 47, 49, 0, 28, 35, 15, 37, 42, 16, 47, 47, 25, 52, 0, 48, 48, 17, 18, 53, 16, 27, 50, 51, 36, 0, 30, 18, 25, 36, 32, 38, 37, 43, 51, 43, 0, 52, 21, 27, 24, 35, 51, 36, 36, 54, 51, 0, 23]\n"
     ]
    }
   ],
   "source": [
    "import network\n",
    "\n",
    "# create_grid(n, m, e, p, p_min, p_max)\n",
    "grid, V_stops, V_blocks, V_existing, V_possible, pop = network.create_grid(10, 10, 5, 5, 15, 55)\n",
    "print(pop)"
   ]
  }
 ],
 "metadata": {
  "kernelspec": {
   "display_name": "Python 3.10.5 64-bit",
   "language": "python",
   "name": "python3"
  },
  "language_info": {
   "codemirror_mode": {
    "name": "ipython",
    "version": 3
   },
   "file_extension": ".py",
   "mimetype": "text/x-python",
   "name": "python",
   "nbconvert_exporter": "python",
   "pygments_lexer": "ipython3",
   "version": "3.10.5"
  },
  "orig_nbformat": 4,
  "vscode": {
   "interpreter": {
    "hash": "aee8b7b246df8f9039afb4144a1f6fd8d2ca17a180786b69acc140d282b71a49"
   }
  }
 },
 "nbformat": 4,
 "nbformat_minor": 2
}
