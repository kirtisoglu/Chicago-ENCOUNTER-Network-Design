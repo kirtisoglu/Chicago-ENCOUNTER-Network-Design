{
 "cells": [
  {
   "cell_type": "code",
   "execution_count": 1,
   "metadata": {},
   "outputs": [],
   "source": [
    "import classes as cl\n",
    "import network\n",
    "import travel_time as travel\n",
    "import partitioning as pa\n",
    "import simulated_annealing as sa\n",
    "import numpy as np"
   ]
  },
  {
   "cell_type": "code",
   "execution_count": 2,
   "metadata": {},
   "outputs": [],
   "source": [
    "\"Network Construction\"\n",
    "\n",
    "n = 15      # weight of the grid\n",
    "m = 15      # height of the grid  \n",
    "e = 5       # number of of existing PHCs\n",
    "p = 10       # number of possible PHCs\n",
    "p_min = 40  # min population of a block\n",
    "p_max = 80  # max population of a block\n",
    "d_b = 5     # distance from a block to a block or stop\n",
    "d_s = 3     # distance between consecutive stops\n",
    "\n",
    "grid, V_stops, V_blocks, V_existing, V_possible, pop = network.create_grid(n, m, e, p, p_min, p_max, d_b, d_s)\n",
    "\n",
    "# Check if all the functions work properly in network.\n",
    "\n",
    "# node = grid[(1,2)]\n",
    "# node.get_node_ID()\n",
    "\n",
    "grid_list = list(grid.values())\n",
    "stops_list = list(V_stops.values())\n",
    "blocks_list = list(V_blocks.values())\n",
    "possible_list = list(V_possible.values())\n",
    "existing_list = list(V_existing.values())"
   ]
  },
  {
   "cell_type": "code",
   "execution_count": 3,
   "metadata": {},
   "outputs": [
    {
     "name": "stdout",
     "output_type": "stream",
     "text": [
      "22.0\n",
      "[2316, 2332, 2327, 2336, 2338]\n"
     ]
    }
   ],
   "source": [
    "\"Multi-way Set Partitioning\"\n",
    "\n",
    "time = 10  # Stops searching after 10 seconds and provides the best solution of that moment.\n",
    "\n",
    "objective_value, set_weights, partitioning = pa.multiway_number_partitioning(V_blocks, V_existing, time)\n",
    "\n",
    "print(objective_value)\n",
    "print(set_weights)\n",
    "\n",
    "\n",
    "\n",
    "# 1) add time 90 as a variable to simulated annealing. When we call simulated annealing, it should be correlated.\n",
    "# 2) Should we get lists instead of dictionaries? We will not need to convert them to a list in partitioning, simulated an.\n",
    "#    simulated annealing is turned to lists. Make changes everywhere. all_facilities in SA can be also defined in the main.\n",
    "# 3) We should increase p to 10."
   ]
  },
  {
   "cell_type": "code",
   "execution_count": 4,
   "metadata": {},
   "outputs": [
    {
     "data": {
      "text/plain": [
       "11649"
      ]
     },
     "execution_count": 4,
     "metadata": {},
     "output_type": "execute_result"
    }
   ],
   "source": [
    "np.sum(pop)"
   ]
  },
  {
   "cell_type": "code",
   "execution_count": 5,
   "metadata": {},
   "outputs": [
    {
     "data": {
      "text/plain": [
       "dict_keys([(0, 4), (1, 4), (12, 1), (12, 14), (14, 9), (3, 4), (4, 9), (5, 9), (5, 12), (6, 1), (6, 13), (9, 14), (11, 1), (11, 8), (12, 0)])"
      ]
     },
     "execution_count": 5,
     "metadata": {},
     "output_type": "execute_result"
    }
   ],
   "source": [
    "all_facilities = {**V_existing, **V_possible}\n",
    "all_facilities.keys()"
   ]
  },
  {
   "cell_type": "code",
   "execution_count": 6,
   "metadata": {},
   "outputs": [],
   "source": [
    "\"Initial Solution\"\n",
    "\n",
    "locator, assigner = sa.generate_initial_solution(V_blocks, V_existing, V_possible, partitioning)"
   ]
  },
  {
   "cell_type": "code",
   "execution_count": 7,
   "metadata": {},
   "outputs": [],
   "source": [
    "all_facilities = {**V_existing, **V_possible}\n",
    "count = 0\n",
    "for i in V_blocks.keys():\n",
    "    for j in all_facilities.keys():\n",
    "        if assigner[(i, j)] == 1:\n",
    "            count = count + 1"
   ]
  },
  {
   "cell_type": "code",
   "execution_count": 8,
   "metadata": {},
   "outputs": [
    {
     "data": {
      "text/plain": [
       "{(0, 4): 1822,\n",
       " (1, 4): 1782,\n",
       " (12, 1): 1814,\n",
       " (12, 14): 1745,\n",
       " (14, 9): 1261,\n",
       " (3, 4): 0,\n",
       " (4, 9): 0,\n",
       " (5, 9): 0,\n",
       " (5, 12): 1812,\n",
       " (6, 1): 0,\n",
       " (6, 13): 0,\n",
       " (9, 14): 0,\n",
       " (11, 1): 1413,\n",
       " (11, 8): 0,\n",
       " (12, 0): 0}"
      ]
     },
     "execution_count": 8,
     "metadata": {},
     "output_type": "execute_result"
    }
   ],
   "source": [
    "\"Neighbor Generation\"\n",
    "\n",
    "total_pop = np.sum(pop)\n",
    "max = 7\n",
    "epsilon = 0.1\n",
    "\n",
    "neighbor_locator, neighbor_assigner, assigned_pop = sa.make_neighbor_solution(V_blocks, V_existing, V_possible, max, epsilon, total_pop)\n",
    "\n",
    "assigned_pop"
   ]
  },
  {
   "cell_type": "code",
   "execution_count": 9,
   "metadata": {},
   "outputs": [
    {
     "data": {
      "text/plain": [
       "{(2, 1), (2, 2), (3, 1), (3, 3), (4, 2), (4, 3)}"
      ]
     },
     "execution_count": 9,
     "metadata": {},
     "output_type": "execute_result"
    }
   ],
   "source": [
    "node = grid[(3,2)]\n",
    "node.get_node_neighbors()"
   ]
  },
  {
   "cell_type": "code",
   "execution_count": 10,
   "metadata": {},
   "outputs": [
    {
     "data": {
      "text/plain": [
       "{(2, 1): 3, (4, 3): 3, (3, 1): 5, (4, 2): 5, (3, 3): 5, (2, 2): 5}"
      ]
     },
     "execution_count": 10,
     "metadata": {},
     "output_type": "execute_result"
    }
   ],
   "source": [
    "node.get_node_distance()"
   ]
  },
  {
   "cell_type": "code",
   "execution_count": 11,
   "metadata": {},
   "outputs": [],
   "source": [
    "\"Travel Time\"\n",
    "\n",
    "sources = {**V_existing, **V_possible}\n",
    "\n",
    "for source in sources.keys():\n",
    "    travel_to_source = travel.travel_time_to_source(grid, source)\n",
    "    #print(source)\n",
    "    #max_key = max(travel_to_source, key = travel_to_source.get)\n",
    "    #print(max_key, travel_to_source[max_key])\n",
    "    #print(travel_to_source)\n",
    "\n",
    "travel2 = travel.travel_time(grid, V_existing, V_possible)\n"
   ]
  },
  {
   "cell_type": "code",
   "execution_count": 12,
   "metadata": {},
   "outputs": [],
   "source": [
    "obj_value = sa.objective_function(V_blocks, V_existing, V_possible, travel2, neighbor_assigner)"
   ]
  },
  {
   "cell_type": "code",
   "execution_count": 13,
   "metadata": {},
   "outputs": [
    {
     "name": "stdout",
     "output_type": "stream",
     "text": [
      "1553805.35\n"
     ]
    }
   ],
   "source": [
    "print(obj_value)"
   ]
  },
  {
   "cell_type": "code",
   "execution_count": null,
   "metadata": {},
   "outputs": [],
   "source": [
    "\"Simulated Annealing\"\n",
    "\n",
    "max_iterations = 2000  \n",
    "initial_temperature = 1.0  \n",
    "cooling_rate = 0.0001\n",
    "epsilon = 0.2\n",
    "\n",
    "\n",
    "final_assigner, final_locator, final_energy, locators = sa.simulated_annealing(V_blocks, V_existing, V_possible, partitioning, \n",
    "                                            travel2, max_iterations, initial_temperature, cooling_rate, max, epsilon, total_pop)\n",
    "\n",
    "\n",
    "print(\"Optimized Solution:\", final_locator)\n",
    "print(\"Objective Function Value (Max Access):\", final_energy)\n",
    "\n"
   ]
  },
  {
   "cell_type": "code",
   "execution_count": 15,
   "metadata": {},
   "outputs": [
    {
     "name": "stdout",
     "output_type": "stream",
     "text": [
      "1164.9\n",
      "1747.35\n"
     ]
    }
   ],
   "source": [
    "open_facilities = []\n",
    "for j in all_facilities.keys():\n",
    "    if final_locator[j] == 1:\n",
    "            open_facilities.append(j)\n",
    "lower_bound = (1 - epsilon)* total_pop / len(open_facilities)\n",
    "upper_bound = (1 + epsilon)* total_pop / len(open_facilities)\n",
    "print(lower_bound)\n",
    "print(upper_bound)"
   ]
  },
  {
   "cell_type": "code",
   "execution_count": 16,
   "metadata": {},
   "outputs": [
    {
     "data": {
      "image/png": "[encoded data removed]",
      "text/plain": [
       "<Figure size 640x480 with 1 Axes>"
      ]
     },
     "metadata": {},
     "output_type": "display_data"
    }
   ],
   "source": [
    "import numpy as np\n",
    "import matplotlib.pyplot as plt\n",
    "from matplotlib.colors import ListedColormap\n",
    "\n",
    "\n",
    "## Open Possible Facilities (dot ,each has different color)\n",
    "## Existing Facilities (mark, each has different color)\n",
    "## Closed Facilities  (Dot, no color)\n",
    "## Stops   (Cross, no color)\n",
    "# Blocks  (No dot, facility color)\n",
    "\n",
    "    \n",
    "open_facilities = []\n",
    "closed_facilities = []\n",
    "\n",
    "for j in V_possible.keys():\n",
    "    if final_locator[j] == 1:\n",
    "        open_facilities.append(j)\n",
    "    else:\n",
    "        closed_facilities.append(j)    \n",
    "\n",
    "\n",
    "grid_size = 1\n",
    "x1 = np.arange(-0.5, 15.5, grid_size)\n",
    "y1 = np.arange(-0.5, 15.5, grid_size)\n",
    "\n",
    "\n",
    "# Define your 15 colors\n",
    "open_colors = ['pink', 'brown', 'gold', 'indigo', 'cyan', 'orange', 'gray', 'olive', 'lime', 'teal', 'magenta']\n",
    "existing_colors = ['red', 'blue', 'green', 'yellow', 'purple']\n",
    "\n",
    "center_color = {}\n",
    "\n",
    "for stop in V_stops.keys():\n",
    "    x = stop[0]\n",
    "    y = stop[1]\n",
    "    plt.scatter(x, y, c='black',s=50, facecolors=None)    # stops are marked using cross.(no ceil color) \n",
    "\n",
    "for close in closed_facilities:\n",
    "    x = close[0]\n",
    "    y = close[1] \n",
    "    plt.scatter(x, y, c='black', marker=\"x\", facecolors=None)   # Closed Facilities: marker = x  (no ceil color)\n",
    "\n",
    "for k, exist in enumerate(V_existing.keys()):   # Existing Facilities: marker = square.  (each ceil has different color)\n",
    "    x = exist[0]\n",
    "    y = exist[1]\n",
    "    center_color[exist] = existing_colors[k]\n",
    "    plt.scatter(x, y, c='black', marker=\"s\", facecolors='none')  \n",
    "\n",
    "for k, open in enumerate(open_facilities):   # Open Possible Facilities: marker = +. (each ceil has different color)\n",
    "    x = open[0]\n",
    "    y = open[1]\n",
    "    center_color[open] = open_colors[k]\n",
    "    plt.scatter(x, y, c='black', marker=\"P\", facecolors='none')  \n",
    "\n",
    "for block in V_blocks.keys():\n",
    "    for facility in all_facilities:\n",
    "        if final_assigner[block, facility] == 1:  # We are assuming every block is assigned to one facility.\n",
    "                center_color[block] = center_color[facility]\n",
    "\n",
    "# Draw vertical lines\n",
    "for i in range(len(x1)):\n",
    "    plt.vlines(x1[i], ymin=y1[0], ymax=y1[-1], color='black')\n",
    "\n",
    "# Draw horizontal lines\n",
    "for j in range(len(y1)):\n",
    "    plt.hlines(y1[j], xmin=x1[0], xmax=x1[-1], color='black')\n",
    "\n",
    "for key in center_color.keys():\n",
    "    x = key[0]\n",
    "    y = key[1]\n",
    "    x_coords = [x - 0.5, x + 0.5, x + 0.5, x - 0.5]\n",
    "    y_coords = [y - 0.5, y - 0.5, y + 0.5, y + 0.5]\n",
    "\n",
    "    plt.fill_between(x_coords, y_coords, color=center_color[key])\n",
    "\n",
    "for stop in V_stops.keys():\n",
    "    x = stop[0]\n",
    "    y = stop[1]\n",
    "    plt.scatter(x, y, c='black',s=50, facecolors=None)    # stops are marked using cross.(no ceil color) \n",
    "\n",
    "for close in closed_facilities:\n",
    "    x = close[0]\n",
    "    y = close[1]\n",
    "    plt.scatter(x, y, c='black', marker=\"x\", facecolors=None)   # Closed Facilities: marker = x  (no ceil color)\n",
    "\n",
    "for k, exist in enumerate(V_existing.keys()):   # Existing Facilities: marker = square.  (each ceil has different color)\n",
    "    x = exist[0]\n",
    "    y = exist[1]\n",
    "    center_color[exist] = existing_colors[k]\n",
    "    plt.scatter(x, y, c='black', marker=\"s\", facecolors='none')  \n",
    "\n",
    "for k, open in enumerate(open_facilities):   # Open Possible Facilities: marker = +. (each ceil has different color)\n",
    "    x = open[0]\n",
    "    y = open[1]\n",
    "    center_color[open] = open_colors[k]\n",
    "    plt.scatter(x, y, c='black', marker=\"P\", facecolor='none')  \n",
    "\n",
    "plt.yticks(y1)\n",
    "plt.xticks(x1, rotation=90)\n",
    "plt.show()\n"
   ]
  },
  {
   "cell_type": "code",
   "execution_count": 17,
   "metadata": {},
   "outputs": [
    {
     "data": {
      "text/plain": [
       "{(0, 4): 24,\n",
       " (1, 4): 24,\n",
       " (12, 1): 30,\n",
       " (12, 14): 20,\n",
       " (14, 9): 25,\n",
       " (3, 4): 20,\n",
       " (4, 9): 25,\n",
       " (5, 9): 0,\n",
       " (5, 12): 0,\n",
       " (6, 1): 0,\n",
       " (6, 13): 28,\n",
       " (9, 14): 0,\n",
       " (11, 1): 0,\n",
       " (11, 8): 0,\n",
       " (12, 0): 0}"
      ]
     },
     "execution_count": 17,
     "metadata": {},
     "output_type": "execute_result"
    }
   ],
   "source": [
    "counter = {}\n",
    "\n",
    "for facility in all_facilities.keys():\n",
    "    counter[facility] = 0\n",
    "    for node in V_blocks.keys():\n",
    "        if final_assigner[node, facility] == 1:\n",
    "            counter[facility] = counter[facility]+1\n",
    "counter\n"
   ]
  },
  {
   "cell_type": "code",
   "execution_count": 18,
   "metadata": {},
   "outputs": [
    {
     "name": "stdout",
     "output_type": "stream",
     "text": [
      "set()\n"
     ]
    }
   ],
   "source": [
    "print(V_blocks.keys() & V_possible.keys()) #"
   ]
  }
 ],
 "metadata": {
  "kernelspec": {
   "display_name": "Python 3.10.5 64-bit",
   "language": "python",
   "name": "python3"
  },
  "language_info": {
   "codemirror_mode": {
    "name": "ipython",
    "version": 3
   },
   "file_extension": ".py",
   "mimetype": "text/x-python",
   "name": "python",
   "nbconvert_exporter": "python",
   "pygments_lexer": "ipython3",
   "version": "3.10.5"
  },
  "orig_nbformat": 4,
  "vscode": {
   "interpreter": {
    "hash": "aee8b7b246df8f9039afb4144a1f6fd8d2ca17a180786b69acc140d282b71a49"
   }
  }
 },
 "nbformat": 4,
 "nbformat_minor": 2
}
