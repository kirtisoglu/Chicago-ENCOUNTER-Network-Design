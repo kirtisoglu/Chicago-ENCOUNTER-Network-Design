{
 "cells": [
  {
   "cell_type": "code",
   "execution_count": null,
   "metadata": {},
   "outputs": [],
   "source": [
    "import network\n",
    "import travel_time as travel\n",
    "import simulated_annealing as sa"
   ]
  },
  {
   "cell_type": "code",
   "execution_count": 1,
   "metadata": {},
   "outputs": [
    {
     "data": {
      "text/plain": [
       "12829"
      ]
     },
     "execution_count": 1,
     "metadata": {},
     "output_type": "execute_result"
    }
   ],
   "source": [
    "# Network\n",
    "\n",
    "# create_grid(n, m, e, p, p_min, p_max, d_b, d_s)\n",
    "\n",
    "# n, m: grid = P_m cartesian P_n\n",
    "# e = number of existing PHCs\n",
    "# p = number of possible PHCs\n",
    "# p_min = min population of a block\n",
    "# p_max = max population of a block\n",
    "# d_b = distance from a block to a block or stop\n",
    "# d_s = distance between consecutive stops\n",
    "\n",
    "grid, V_stops, V_blocks, V_existing, V_possible, pop = network.create_grid(15, 15, 5, 5, 40, 80, 5, 3)\n",
    "\n",
    "#print(pop)\n",
    "sum(pop)"
   ]
  },
  {
   "cell_type": "code",
   "execution_count": 2,
   "metadata": {},
   "outputs": [
    {
     "data": {
      "text/plain": [
       "(10, 5, 5)"
      ]
     },
     "execution_count": 2,
     "metadata": {},
     "output_type": "execute_result"
    }
   ],
   "source": [
    "sources = {**V_existing, **V_possible}\n",
    "len(sources), len(V_existing), len(V_possible)\n",
    "\n",
    "# Check if all the functions work properly in network."
   ]
  },
  {
   "cell_type": "code",
   "execution_count": null,
   "metadata": {},
   "outputs": [],
   "source": [
    "# Travel Time\n",
    "\n",
    "for source in sources.keys():\n",
    "    travel_to_source = travel.travel_time_to_source(grid, source)\n",
    "    print(source)\n",
    "    max_key = max(travel_to_source, key = travel_to_source.get)\n",
    "    print(max_key, travel_to_source[max_key])\n",
    "    print(travel_to_source)"
   ]
  },
  {
   "cell_type": "code",
   "execution_count": null,
   "metadata": {},
   "outputs": [],
   "source": [
    "# Simulated Annealing\n",
    "\n",
    "max_iterations = 1000  \n",
    "initial_temperature = 1.0  \n",
    "cooling_rate = 0.01 \n",
    "\n",
    "initial_solution = sa.generate_initial_solution()\n",
    "\n",
    "final_solution, final_energy = sa.simulated_annealing(initial_solution, max_iterations, initial_temperature, cooling_rate)\n",
    "\n",
    "\n",
    "print(\"Optimized Solution:\", final_solution)\n",
    "print(\"Objective Function Value (Max Access):\", final_energy)\n",
    "\n",
    "# Plot visualization "
   ]
  }
 ],
 "metadata": {
  "kernelspec": {
   "display_name": "Python 3.10.5 64-bit",
   "language": "python",
   "name": "python3"
  },
  "language_info": {
   "codemirror_mode": {
    "name": "ipython",
    "version": 3
   },
   "file_extension": ".py",
   "mimetype": "text/x-python",
   "name": "python",
   "nbconvert_exporter": "python",
   "pygments_lexer": "ipython3",
   "version": "3.10.5"
  },
  "orig_nbformat": 4,
  "vscode": {
   "interpreter": {
    "hash": "aee8b7b246df8f9039afb4144a1f6fd8d2ca17a180786b69acc140d282b71a49"
   }
  }
 },
 "nbformat": 4,
 "nbformat_minor": 2
}
