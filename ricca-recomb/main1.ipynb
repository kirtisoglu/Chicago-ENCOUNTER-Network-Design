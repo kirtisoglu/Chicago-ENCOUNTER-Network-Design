{
 "cells": [
  {
   "cell_type": "code",
   "execution_count": 1,
   "metadata": {},
   "outputs": [],
   "source": [
    "import classes as cl\n",
    "import network\n",
    "import travel_time as travel\n",
    "import numpy as np\n",
    "import plot"
   ]
  },
  {
   "cell_type": "code",
   "execution_count": 2,
   "metadata": {},
   "outputs": [
    {
     "name": "stdout",
     "output_type": "stream",
     "text": [
      "Total Population:  13450\n"
     ]
    }
   ],
   "source": [
    "\"Network Construction\"\n",
    "\n",
    "n = 15      # weight of the grid\n",
    "m = 15      # height of the grid  \n",
    "e = 5       # number of of existing PHCs\n",
    "p = 10       # number of possible PHCs\n",
    "p_min = 40  # min population of a block\n",
    "p_max = 80  # max population of a block\n",
    "d_b = 5     # distance from a block to a block or stop\n",
    "d_s = 3     # distance between consecutive stops\n",
    "\n",
    "\n",
    "grid, V_stops, V_blocks, V_existing, V_possible, all_facilities, pop, total_pop = network.create_grid(n, m, e, p, p_min, p_max, d_b, d_s)\n",
    "\n",
    "print(\"Total Population: \", np.sum(pop))"
   ]
  },
  {
   "cell_type": "code",
   "execution_count": 3,
   "metadata": {},
   "outputs": [],
   "source": [
    "\"Travel Time\"\n",
    "\n",
    "for source in all_facilities.keys():\n",
    "    travel_to_source = travel.travel_time_to_source(grid, source)\n",
    "travel2 = travel.travel_time(grid, V_existing, V_possible)"
   ]
  },
  {
   "cell_type": "code",
   "execution_count": 4,
   "metadata": {},
   "outputs": [],
   "source": [
    "def network_details():\n",
    "    return grid, V_stops, V_blocks, V_existing, V_possible, pop, all_facilities, total_pop, travel2\n",
    "\n",
    "def parameters():\n",
    "    return n, m, e, p, p_min, p_max, d_b, d_s"
   ]
  }
 ],
 "metadata": {
  "kernelspec": {
   "display_name": "Python 3.10.5 64-bit",
   "language": "python",
   "name": "python3"
  },
  "language_info": {
   "codemirror_mode": {
    "name": "ipython",
    "version": 3
   },
   "file_extension": ".py",
   "mimetype": "text/x-python",
   "name": "python",
   "nbconvert_exporter": "python",
   "pygments_lexer": "ipython3",
   "version": "3.10.5"
  },
  "orig_nbformat": 4,
  "vscode": {
   "interpreter": {
    "hash": "aee8b7b246df8f9039afb4144a1f6fd8d2ca17a180786b69acc140d282b71a49"
   }
  }
 },
 "nbformat": 4,
 "nbformat_minor": 2
}
